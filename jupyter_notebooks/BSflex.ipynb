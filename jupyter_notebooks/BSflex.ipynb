{
 "cells": [
  {
   "cell_type": "code",
   "execution_count": 9,
   "metadata": {},
   "outputs": [
    {
     "name": "stdout",
     "output_type": "stream",
     "text": [
      "\n",
      "\n",
      "\n",
      "\n",
      "First paragraph\n",
      "Second paragraph\n",
      "Third paragraph with bold, but not only\n",
      "Fourth paragraph with italics, but not only\n",
      "Last paragraph\n",
      "\n",
      "\n"
     ]
    }
   ],
   "source": [
    "# Flexing every pertinent Beautiful Soup feature\n",
    "import bs4 as bs\n",
    "import lxml\n",
    "\n",
    "text = \"\"\"\n",
    "<html>\n",
    "    <body> \n",
    "    </body>\n",
    "    <head>\n",
    "        <p>First paragraph</p>\n",
    "        <p>Second paragraph</p>\n",
    "        <p>Third paragraph <b>with bold</b>, but not only</p>\n",
    "        <p>Fourth paragraph <i>with italics</i>, but not only</p>\n",
    "        <p>Last paragraph</p>\n",
    "    </head>\n",
    "</html>\n",
    "\"\"\"\n",
    "soup = bs.BeautifulSoup(text, 'lxml')\n",
    "print(soup.get_text())\n",
    "print(soup.get_text())\n"
   ]
  }
 ],
 "metadata": {
  "kernelspec": {
   "display_name": "Python 3.9.1 ('.venv': venv)",
   "language": "python",
   "name": "python3"
  },
  "language_info": {
   "codemirror_mode": {
    "name": "ipython",
    "version": 3
   },
   "file_extension": ".py",
   "mimetype": "text/x-python",
   "name": "python",
   "nbconvert_exporter": "python",
   "pygments_lexer": "ipython3",
   "version": "3.9.1"
  },
  "orig_nbformat": 4,
  "vscode": {
   "interpreter": {
    "hash": "369c5e762566542b7e1b9087985119ff26b4daf909ad96eeb0bc0767c2e9d06d"
   }
  }
 },
 "nbformat": 4,
 "nbformat_minor": 2
}

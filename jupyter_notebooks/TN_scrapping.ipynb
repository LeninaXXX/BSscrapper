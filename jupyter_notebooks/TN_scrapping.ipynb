{
 "cells": [
  {
   "cell_type": "code",
   "execution_count": 86,
   "metadata": {},
   "outputs": [],
   "source": [
    "import requests                                                         # Jupyter keyboard shortcuts cheatsheet \n",
    "import bs4 as bs                                                        # Ctrl + Enter  :: runs currently selected cell, focus remains in current cell\n",
    "import lxml                                                             # Shift + Enter :: runs current cell and insert new one immediately below\n",
    "import html5lib                                                         # Esc Shift + L :: Toggle line numbering for full notebook\n",
    "\n",
    "httpaddr = \"http://tn.com.ar\"\n",
    "requests_ret = requests.get(httpaddr)                                   # Alt + <arrow> :: Move code cell\n",
    "# Make two soups\n",
    "soup_html5lib = bs.BeautifulSoup(requests_ret.text, 'html5lib')         # Esc Y         :: (Command mode) Switch to typing code (on a new cell)\n",
    "soup_lxml = bs.BeautifulSoup(requests_ret.text, 'lxml')                 # Esc L         :: Toggle line numbering for present cell\n",
    "# ... choose one                                                                        \n",
    "soup = soup_lxml"
   ]
  },
  {
   "cell_type": "code",
   "execution_count": 120,
   "metadata": {},
   "outputs": [
    {
     "name": "stdout",
     "output_type": "stream",
     "text": [
      "  0 |attrs> {'class': ['card__container', 'dark-brick', 'full-width', 'card__vertical']}\n",
      "  0 |text> La trastiendaLa Casa Rosada busca un gesto de Cristina Kirchner para acercarse a la oposición y calmar a los mercadosEn el Gobierno hay preocupación por la disparada del dólar en la previa de un agosto crítico. Creen que una foto de unidad interna y una reunión con dirigentes opositores despejaría la incertidumbre política.Por Bruno Yacono\n",
      "\t 1 | tag (a) | attrs \n",
      "\t\t{'class': ['card__image', 'card__media'], 'href': '/politica/2022/07/22/la-casa-rosada-busca-un-gesto-de-cristina-kirchner-para-acercarse-a-la-oposicion-y-calmar-a-los-mercados/', 'title': 'La Casa Rosada busca un gesto de Cristina Kirchner para acercarse a la oposición y calmar a los mercados'} \n",
      "\t 1 | text > \n",
      "\t 2 | tag (div) | attrs \n",
      "\t\t{'class': ['card__body']} \n",
      "\t 2 | text > La trastiendaLa Casa Rosada busca un gesto de Cristina Kirchner para acercarse a la oposición y calmar a los mercadosEn el Gobierno hay preocupación por la disparada del dólar en la previa de un agosto crítico. Creen que una foto de unidad interna y una reunión con dirigentes opositores despejaría la incertidumbre política.Por Bruno Yacono\n",
      "------------------------------------------------------------\n",
      "<article class=\"card__container dark-brick full-width card__vertical\">\n",
      " <a class=\"card__image card__media\" href=\"/politica/2022/07/22/la-casa-rosada-busca-un-gesto-de-cristina-kirchner-para-acercarse-a-la-oposicion-y-calmar-a-los-mercados/\" title=\"La Casa Rosada busca un gesto de Cristina Kirchner para acercarse a la oposición y calmar a los mercados\">\n",
      "  <div class=\"aspect_ratio__container\" style=\"--aspect-ratio:16/9\">\n",
      "   <picture class=\"responsive-image\">\n",
      "    <source media=\"(max-width: 728px)\" srcset=\"https://tn.com.ar/resizer/bPbQRcIxfFA8fA3ZI9YLVW25QsA=/767x0/smart/cloudfront-us-east-1.images.arcpublishing.com/artear/44NK6CCU6ZAMPP45LIIGMLXICI\" type=\"image/jpg\"/>\n",
      "    <source media=\"(max-width: 1023px)\" srcset=\"https://tn.com.ar/resizer/__uGa81xqC5LiEvMkhxhbqzeGNw=/1023x0/smart/cloudfront-us-east-1.images.arcpublishing.com/artear/44NK6CCU6ZAMPP45LIIGMLXICI\" type=\"image/jpg\"/>\n",
      "    <source srcset=\"https://tn.com.ar/resizer/tyiq2wI6H30Fd3ZiYRDvP-lDm7s=/650x0/smart/cloudfront-us-east-1.images.arcpublishing.com/artear/44NK6CCU6ZAMPP45LIIGMLXICI\" type=\"image/jpg\"/>\n",
      "    <img alt=\"Tregua: Cristina y Alberto frenaron las agresiones en medio de las turbulencias económicas. (AP Foto)\" class=\"image image_placeholder\" src=\"https://tn.com.ar/resizer/bPbQRcIxfFA8fA3ZI9YLVW25QsA=/767x0/smart/cloudfront-us-east-1.images.arcpublishing.com/artear/44NK6CCU6ZAMPP45LIIGMLXICI\"/>\n",
      "   </picture>\n",
      "  </div>\n",
      " </a>\n",
      " <div class=\"card__body\">\n",
      "  <span class=\"card__volanta\">\n",
      "   La trastienda\n",
      "  </span>\n",
      "  <header>\n",
      "   <h2 class=\"card__headline\">\n",
      "    <a href=\"/politica/2022/07/22/la-casa-rosada-busca-un-gesto-de-cristina-kirchner-para-acercarse-a-la-oposicion-y-calmar-a-los-mercados/\" title=\"La Casa Rosada busca un gesto de Cristina Kirchner para acercarse a la oposición y calmar a los mercados\">\n",
      "     La Casa Rosada busca un gesto de Cristina Kirchner para acercarse a la oposición y calmar a los mercados\n",
      "    </a>\n",
      "   </h2>\n",
      "  </header>\n",
      "  <p class=\"card__subheadline\">\n",
      "   En el Gobierno hay preocupación por la disparada del dólar en la previa de un agosto crítico. Creen que una foto de unidad interna y una reunión con dirigentes opositores despejaría la incertidumbre política.\n",
      "  </p>\n",
      "  <footer>\n",
      "   <div class=\"authors card__author\">\n",
      "    Por\n",
      "    <a class=\"author__name\" href=\"/autor/Brunoyacono/\" rel=\"author\">\n",
      "     Bruno Yacono\n",
      "    </a>\n",
      "   </div>\n",
      "  </footer>\n",
      " </div>\n",
      "</article>\n",
      "------------------------------------------------------------\n"
     ]
    }
   ],
   "source": [
    "h2s = soup.find_all('h2')\n",
    "h3s = soup.find_all('h3')\n",
    "h3s_class_section_title = soup.find_all('h3', class_ = \"section-title\")\n",
    "\n",
    "articles = soup.find_all('article')\n",
    "\n",
    "# for i, art in enumerate(articles, start = 1):\n",
    "#     print(\"%3d |attrs>\" % i, art.attrs)\n",
    "#     print(\"%3d |text>\" % i, art.get_text())\n",
    "#     for j, c in enumerate(art.children, start = 1):\n",
    "#         print(\"\\t%2d | tag (%s) | attrs \\n\\t\\t%s \" % (j, c.name, c.attrs))\n",
    "#         print(\"\\t%2d | text >\" % j, c.get_text())\n",
    "#     print('-' * 60)\n",
    "#     print(art.prettify())\n",
    "#     print('-' * 60)\n",
    "i = 0; art = articles[i]\n",
    "print(\"%3d |attrs>\" % i, art.attrs)\n",
    "print(\"%3d |text>\" % i, art.get_text())\n",
    "for j, c in enumerate(art.children, start = 1):\n",
    "    print(\"\\t%2d | tag (%s) | attrs \\n\\t\\t%s \" % (j, c.name, c.attrs))\n",
    "    print(\"\\t%2d | text >\" % j, c.get_text())\n",
    "print('-' * 60)\n",
    "print(art.prettify())\n",
    "print('-' * 60)\n"
   ]
  },
  {
   "cell_type": "code",
   "execution_count": 118,
   "metadata": {},
   "outputs": [
    {
     "name": "stdout",
     "output_type": "stream",
     "text": [
      "articles: 107\n",
      "headers : 107\n",
      "footers : 24\n"
     ]
    }
   ],
   "source": [
    "article_list = []\n",
    "for article in soup.find_all('article'):\n",
    "    "
   ]
  },
  {
   "cell_type": "code",
   "execution_count": null,
   "metadata": {},
   "outputs": [],
   "source": [
    "for i, a in enumerate(articles, start = 1):\n",
    "    "
   ]
  }
 ],
 "metadata": {
  "kernelspec": {
   "display_name": "Python 3.9.1 ('.venv': venv)",
   "language": "python",
   "name": "python3"
  },
  "language_info": {
   "codemirror_mode": {
    "name": "ipython",
    "version": 3
   },
   "file_extension": ".py",
   "mimetype": "text/x-python",
   "name": "python",
   "nbconvert_exporter": "python",
   "pygments_lexer": "ipython3",
   "version": "3.9.1"
  },
  "orig_nbformat": 4,
  "vscode": {
   "interpreter": {
    "hash": "369c5e762566542b7e1b9087985119ff26b4daf909ad96eeb0bc0767c2e9d06d"
   }
  }
 },
 "nbformat": 4,
 "nbformat_minor": 2
}

{
 "cells": [
  {
   "cell_type": "code",
   "execution_count": null,
   "metadata": {},
   "outputs": [
    {
     "ename": "",
     "evalue": "",
     "output_type": "error",
     "traceback": [
      "\u001b[1;31mRunning cells with 'Python 3.9.1 ('.venv': venv)' requires ipykernel package.\n",
      "Run the following command to install 'ipykernel' into the Python environment. \n",
      "Command: 'c:/code/python/BSscrapper/.venv/Scripts/python.exe -m pip install ipykernel -U --force-reinstall'"
     ]
    }
   ],
   "source": [
    "from bs4 import BeautifulSoup\n",
    "import html5lib\n",
    "import requests\n",
    "from pprint import pprint\n",
    "import os\n",
    "\n",
    "url = \"https://www.lanacion.com.ar\"\n",
    "# url = \"https://www.ambito.com\"\n",
    "# url = \"https://www.infobae.com\"\n",
    "\n",
    "req = requests.get(url)\n",
    "\n",
    "# put it in a BeautifulSoup object\n",
    "soup = BeautifulSoup(req.text, \"html5lib\")\n",
    "all_em = soup.find_all('em')\n",
    "all_em_parents = [em.find_parent() for em in all_em]\n",
    "all_em_grampas = [em.find_parent() for em in all_em_parents]\n",
    "\n",
    "for (idx, (c, p, g)) in enumerate(list(zip(all_em, all_em_parents, all_em_grampas))):\n",
    "    print(\"=\"*15 + f\"> grandfather :: {idx} <\" + \"=\"*15)\n",
    "    print(g.prettify(), sep='')\n"
   ]
  },
  {
   "cell_type": "code",
   "execution_count": 3,
   "metadata": {},
   "outputs": [
    {
     "name": "stdout",
     "output_type": "stream",
     "text": [
      "===============> node :: 0 <===============\n",
      "<h1 class=\"com-title --xl\">\n",
      " <a class=\"com-link\" href=\"/politica/la-economia-acelera-hacia-el-ojo-del-huracan-nid06072022/\" title=\"Análisis. La economía acelera hacia el ojo del huracán\">\n",
      "  <em class=\"com-lead\">\n",
      "   Análisis.\n",
      "  </em>\n",
      "  La economía acelera hacia el ojo del huracán\n",
      " </a>\n",
      "</h1>\n",
      "\n",
      "===============> node :: 1 <===============\n",
      "<h2 class=\"com-subhead --twoxs\">\n",
      " <a href=\"/politica/la-economia-acelera-hacia-el-ojo-del-huracan-nid06072022/\" title=\" Alberto Fernández cree que está sólo frente a un cambio de ministros, pero el reemplazo de Guzmán dejó al descubierto un mapa de poder desconocido: es el mapa de Cristina Kirchner\">\n",
      "  Alberto Fernández cree que está sólo frente a un cambio de ministros, pero el reemplazo de Guzmán dejó al descubierto un mapa de poder desconocido: es el mapa de Cristina Kirchner\n",
      " </a>\n",
      "</h2>\n",
      "\n",
      "===============> node :: 2 <===============\n",
      "<h2 class=\"com-title --xs\">\n",
      " <a class=\"com-link\" href=\"/economia/batakis-vamos-a-buscar-un-acuerdo-con-los-formadores-de-precios-nid06072022/\" title=\"Definiciones en medio de la crisis. Batakis sobre los dólares para el turismo: “El derecho a viajar colisiona con la generación de puestos de trabajo”\">\n",
      "  <em class=\"com-lead\">\n",
      "   Definiciones en medio de la crisis.\n",
      "  </em>\n",
      "  Batakis sobre los dólares para el turismo: “El derecho a viajar colisiona con la generación de puestos de trabajo”\n",
      " </a>\n",
      "</h2>\n",
      "\n",
      "===============> node :: 3 <===============\n",
      "<h2 class=\"com-title --xs\">\n",
      " <a class=\"com-link\" href=\"/deportes/futbol/river-archiva-sus-suenos-de-grandeza-sin-copa-libertadores-ni-luis-suarez-y-con-menos-dolares-nid07072022/\" title=\"Coletazos de la eliminación. River archiva sus sueños de grandeza: sin Libertadores, sin Luis Suárez y con menos dólares\">\n",
      "  <em class=\"com-lead\">\n",
      "   Coletazos de la eliminación.\n",
      "  </em>\n",
      "  River archiva sus sueños de grandeza: sin Libertadores, sin Luis Suárez y con menos dólares\n",
      " </a>\n",
      "</h2>\n",
      "\n",
      "===============> node :: 4 <===============\n",
      "<h2 class=\"com-title --xs\">\n",
      " <a class=\"com-link\" href=\"/deportes/futbol/sebastian-battaglia-dejo-de-ser-el-tecnico-de-boca-nid06072022/\" title=\"Bombazo. Un día después de la eliminación en la Libertadores, Sebastián Battaglia dejó de ser el técnico de Boca\">\n",
      "  <em class=\"com-lead\">\n",
      "   Bombazo.\n",
      "  </em>\n",
      "  Un día después de la eliminación en la Libertadores, Sebastián Battaglia dejó de ser el técnico de Boca\n",
      " </a>\n",
      "</h2>\n",
      "\n",
      "===============> node :: 5 <===============\n",
      "<h2 class=\"com-title --xs\">\n",
      " <a class=\"com-link\" href=\"/politica/el-servicio-penitenciario-inicio-un-sumario-a-raiz-del-acto-en-el-que-axel-kicillof-fue-silbado-e-nid06072022/\" title=\"Bronca. El Servicio Penitenciario inició un sumario a raíz del acto en el que Kicillof fue silbado e insultado\">\n",
      "  <em class=\"com-lead\">\n",
      "   Bronca.\n",
      "  </em>\n",
      "  El Servicio Penitenciario inició un sumario a raíz del acto en el que Kicillof fue silbado e insultado\n",
      " </a>\n",
      "</h2>\n",
      "\n",
      "===============> node :: 6 <===============\n",
      "<h2 class=\"com-title --xs\">\n",
      " <a class=\"com-link\" href=\"/sociedad/confiteria-del-molino-tuvo-un-pasado-lujoso-quebro-y-fue-saqueada-pero-hoy-la-restauran-para-que-nid06072022/\" title=\"Confitería de lujo. Tuvo un pasado suntuoso, quebró y fue saqueada, pero hoy la restauran para que vuelva a brillar\">\n",
      "  <em class=\"com-lead\">\n",
      "   Confitería de lujo.\n",
      "  </em>\n",
      "  Tuvo un pasado suntuoso, quebró y fue saqueada, pero hoy la restauran para que vuelva a brillar\n",
      " </a>\n",
      "</h2>\n",
      "\n"
     ]
    }
   ],
   "source": [
    "all_h = soup.find_all('h1') + soup.find_all('h2')\n",
    "all_h_parents = [h.find_parent() for h in all_h]\n",
    "all_h_grampas = [h.find_parent() for h in all_h_parents]\n",
    "\n",
    "for (idx, (n, p, g)) in enumerate(list(zip(all_h, all_h_parents, all_h_grampas))):\n",
    "    print(\"=\"*15 + f\"> node :: {idx} <\" + \"=\"*15)\n",
    "    print(n.prettify(), sep='')"
   ]
  },
  {
   "cell_type": "code",
   "execution_count": 4,
   "metadata": {},
   "outputs": [
    {
     "name": "stdout",
     "output_type": "stream",
     "text": [
      "titulo_h1 =  Análisis. La economía acelera hacia el ojo del huracán\n",
      "type(titulo_h1) =  <class 'str'>\n",
      "str(titulo_h1) =  Análisis. La economía acelera hacia el ojo del huracán\n",
      "titulo_href =  /politica/la-economia-acelera-hacia-el-ojo-del-huracan-nid06072022/\n",
      "type(titulo_href) =  <class 'str'>\n",
      "str(titulo_href) =  /politica/la-economia-acelera-hacia-el-ojo-del-huracan-nid06072022/\n",
      "copete_h2 =   Alberto Fernández cree que está sólo frente a un cambio de ministros, pero el reemplazo de Guzmán dejó al descubierto un mapa de poder desconocido: es el mapa de Cristina Kirchner\n",
      "type(copete_h2) =  <class 'str'>\n",
      "str(copete_h2) =   Alberto Fernández cree que está sólo frente a un cambio de ministros, pero el reemplazo de Guzmán dejó al descubierto un mapa de poder desconocido: es el mapa de Cristina Kirchner\n",
      "autor_div =  Por Carlos Pagni\n",
      "type(autor_div) =  <class 'str'>\n",
      "str(autor_div) =  Por Carlos Pagni\n"
     ]
    }
   ],
   "source": [
    "h_main = soup.find_all(\"h1\")\n",
    "article = h_main[0].parent\n",
    "\n",
    "titulo_h1 = article.find_all(\"h1\")[0].get_text()\n",
    "titulo_href = article.find_all(\"h1\")[0].find_all(\"a\")[0]['href']\n",
    "copete_h2 = article.find_all(\"h2\")[0].get_text()\n",
    "autor_div = article.find_all(\"div\")[0].get_text()\n",
    "\n",
    "print(\"titulo_h1 = \", titulo_h1)\n",
    "print(\"type(titulo_h1) = \", type(titulo_h1))\n",
    "print(\"str(titulo_h1) = \", str(titulo_h1))\n",
    "\n",
    "print(\"titulo_href = \", titulo_href)\n",
    "print(\"type(titulo_href) = \", type(titulo_href))\n",
    "print(\"str(titulo_href) = \", str(titulo_href))\n",
    "\n",
    "print(\"copete_h2 = \", copete_h2)\n",
    "print(\"type(copete_h2) = \", type(copete_h2))\n",
    "print(\"str(copete_h2) = \", str(copete_h2))\n",
    "\n",
    "print(\"autor_div = \", autor_div)\n",
    "print(\"type(autor_div) = \", type(autor_div))\n",
    "print(\"str(autor_div) = \", str(autor_div))"
   ]
  }
 ],
 "metadata": {
  "kernelspec": {
   "display_name": "Python 3.9.1 ('.venv': venv)",
   "language": "python",
   "name": "python3"
  },
  "language_info": {
   "codemirror_mode": {
    "name": "ipython",
    "version": 3
   },
   "file_extension": ".py",
   "mimetype": "text/x-python",
   "name": "python",
   "nbconvert_exporter": "python",
   "pygments_lexer": "ipython3",
   "version": "3.9.1"
  },
  "orig_nbformat": 4,
  "vscode": {
   "interpreter": {
    "hash": "369c5e762566542b7e1b9087985119ff26b4daf909ad96eeb0bc0767c2e9d06d"
   }
  }
 },
 "nbformat": 4,
 "nbformat_minor": 2
}

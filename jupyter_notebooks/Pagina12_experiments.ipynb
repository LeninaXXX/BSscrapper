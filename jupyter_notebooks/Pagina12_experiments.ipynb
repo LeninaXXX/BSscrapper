{
 "cells": [
  {
   "cell_type": "code",
   "execution_count": 1,
   "metadata": {},
   "outputs": [
    {
     "name": "stdout",
     "output_type": "stream",
     "text": [
      "<Response [200]> || articles : 141 / sections : 0 / header : 1 / h1s : 0 / h2s : 0 / h3s : 3 / h4s : 0 / h5s : 0 / h6s : 0\n"
     ]
    }
   ],
   "source": [
    "import requests\n",
    "import bs4 as bs\n",
    "import lxml\n",
    "\n",
    "httpaddr = \"https://www.pagina12.com.ar/\"\n",
    "\n",
    "requests_ret = requests.get(httpaddr)\n",
    "print(requests_ret, end = ' || ')\n",
    "soup = bs.BeautifulSoup(requests_ret.text, 'lxml')\n",
    "# Notas:\n",
    "# Everything semmantically a header, is tagged with <h2>. To all scrapping practical\n",
    "# purposes, all headers except h2 are deemded irrelevant\n",
    "articles = soup.find_all(\"article\"); print(\"articles :\", len(articles), end = ' / ')\n",
    "sections = soup.find_all(\"section\"); print(\"sections :\", len(sections), end = ' / ')\n",
    "headers = soup.find_all(\"header\"); print(\"headers :\", len(headers), end = ' / ')\n",
    "h1s = soup.find_all(\"h1\"); print(\"h1s :\", len(h1s), end = ' / ')\n",
    "h2s = soup.find_all(\"h2\"); print(\"h2s :\", len(h2s), end = ' / ')\n",
    "h3s = soup.find_all(\"h3\"); print(\"h3s :\", len(h3s), end = ' / ')\n",
    "h4s = soup.find_all(\"h4\"); print(\"h4s :\", len(h4s), end = ' / ')\n",
    "h5s = soup.find_all(\"h5\"); print(\"h5s :\", len(h5s), end = ' / ')\n",
    "h6s = soup.find_all(\"h6\"); print(\"h6s :\", len(h6s))\n",
    "# only <h2>s hold relevance\n",
    "# the only <h1> holds an SVG graphic\n",
    "\n",
    "for discard_tag in (\"script\", \"style\"):\n",
    "    for t in soup.find_all(discard_tag): t.extract()"
   ]
  },
  {
   "cell_type": "code",
   "execution_count": null,
   "metadata": {},
   "outputs": [],
   "source": []
  }
 ],
 "metadata": {
  "kernelspec": {
   "display_name": "Python 3.9.1 ('.venv': venv)",
   "language": "python",
   "name": "python3"
  },
  "language_info": {
   "codemirror_mode": {
    "name": "ipython",
    "version": 3
   },
   "file_extension": ".py",
   "mimetype": "text/x-python",
   "name": "python",
   "nbconvert_exporter": "python",
   "pygments_lexer": "ipython3",
   "version": "3.9.1"
  },
  "orig_nbformat": 4,
  "vscode": {
   "interpreter": {
    "hash": "369c5e762566542b7e1b9087985119ff26b4daf909ad96eeb0bc0767c2e9d06d"
   }
  }
 },
 "nbformat": 4,
 "nbformat_minor": 2
}

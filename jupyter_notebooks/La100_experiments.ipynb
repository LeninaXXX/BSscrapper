{
 "cells": [
  {
   "cell_type": "code",
   "execution_count": 1,
   "metadata": {},
   "outputs": [
    {
     "name": "stdout",
     "output_type": "stream",
     "text": [
      "<Response [200]> || articles : 55 / sections : 13 / header : 1 / h1s : 1 / h2s : 12 / h3s : 91 / h4s : 0 / h5s : 0 / h6s : 0\n"
     ]
    }
   ],
   "source": [
    "import requests\n",
    "import bs4 as bs\n",
    "import lxml\n",
    "\n",
    "httpaddr = \"http://la100.cienradios.com/\"\n",
    "\n",
    "requests_ret = requests.get(httpaddr)\n",
    "print(requests_ret, end = ' || ')\n",
    "soup = bs.BeautifulSoup(requests_ret.text, 'lxml')\n",
    "# Notas:\n",
    "# Everything semmantically a header, is tagged with <h2>. To all scrapping practical\n",
    "# purposes, all headers except h2 are deemded irrelevant\n",
    "articles = soup.find_all(\"article\"); print(\"articles :\", len(articles), end = ' / ')\n",
    "sections = soup.find_all(\"section\"); print(\"sections :\", len(sections), end = ' / ')\n",
    "headers = soup.find_all(\"header\"); print(\"headers :\", len(headers), end = ' / ')\n",
    "h1s = soup.find_all(\"h1\"); print(\"h1s :\", len(h1s), end = ' / ')\n",
    "h2s = soup.find_all(\"h2\"); print(\"h2s :\", len(h2s), end = ' / ')\n",
    "h3s = soup.find_all(\"h3\"); print(\"h3s :\", len(h3s), end = ' / ')\n",
    "h4s = soup.find_all(\"h4\"); print(\"h4s :\", len(h4s), end = ' / ')\n",
    "h5s = soup.find_all(\"h5\"); print(\"h5s :\", len(h5s), end = ' / ')\n",
    "h6s = soup.find_all(\"h6\"); print(\"h6s :\", len(h6s))\n",
    "# only <h2>s hold relevance\n",
    "# the only <h1> holds an SVG graphic\n",
    "\n",
    "for discard_tag in (\"script\", \"style\"):\n",
    "    for t in soup.find_all(discard_tag): t.extract()"
   ]
  },
  {
   "cell_type": "code",
   "execution_count": 2,
   "metadata": {},
   "outputs": [
    {
     "name": "stdout",
     "output_type": "stream",
     "text": [
      "+++ <section> NESTING CHECK :: \n",
      "+++ <article> NESTING CHECK :: \n",
      "+++ NUMBER OF <article>s NOT UNDER ANY <section> : 12\n",
      "section[ 0]: ['container', 'd-flex', 'flex-column', 'chainStyleOne']                         ||XXXXXXXXXXX............................................|\n",
      "section[ 1]: ['container', 'd-flex', 'flex-column', 'chainStyleOne', 'separationSpace']      ||.......................................................|\n",
      "section[ 2]: ['container', 'd-flex', 'flex-column', 'chainStyleOne']                         ||...........XXXXXXXX....................................|\n",
      "section[ 3]: ['container-fluid', 'd-flex', 'flex-column', 'chainStyleOne']                   ||...................XXXX................................|\n",
      "section[ 4]: ['container-fluid', 'd-flex', 'flex-column', 'chainStyleOne', 'separationSpace' ||.......................................................|\n",
      "section[ 5]: ['container', 'd-flex', 'flex-column', 'chainStyleOne']                         ||.......................XXXXX...........................|\n",
      "section[ 6]: ['container', 'd-flex', 'flex-column', 'chainStyleOne', 'separationSpace']      ||.......................................................|\n",
      "section[ 7]: ['container-fluid', 'd-flex', 'flex-column', 'chainStyleOne', 'separationSpace' ||.......................................................|\n",
      "section[ 8]: ['container', 'd-flex', 'flex-column', 'chainStyleOne', 'separationSpace']      ||.......................................................|\n",
      "section[ 9]: ['container', 'd-flex', 'flex-column', 'chainStyleOne']                         ||............................XXXXXXXX...................|\n",
      "section[10]: ['container', 'd-flex', 'flex-column', 'chainStyleTwo']                         ||....................................XXXX...............|\n",
      "section[11]: ['container', 'd-flex', 'flex-column', 'chainStyleOne', 'separationSpace']      ||.......................................................|\n",
      "section[12]: ['container', 'd-flex', 'flex-column', 'chainStyleOne', 'separationSpace']      ||........................................XXX............|\n"
     ]
    }
   ],
   "source": [
    "# DUMPS A REPORT ON THE NESTING OF <article>s IN <section>s:\n",
    "# TODO: This can be generalized as a routine that, for any two lists of nodes, gives a report on nesting\n",
    "\n",
    "# Check for section nesting\n",
    "# There's an almost strict hierarchical nesting in which articles are always inside some section\n",
    "# The double belonging of to sections 2 and 3 are due to the fact that section 2 is nested inside section 3 (July 24, 2022)\n",
    "print(\"+++ <section> NESTING CHECK :: \")\n",
    "for (i, j) in [(i, j) for (i, section_i) in enumerate(sections) for (j, section_j) in enumerate(sections) if section_j in section_i.descendants]:\n",
    "    print((\"\\t<section>[%\" + str(len(str(len(sections)))) + \"d] is nested in <section>[%\" + str(len(str(len(sections)))) + \"d]\") % (j, i))\n",
    "\n",
    "print(\"+++ <article> NESTING CHECK :: \")\n",
    "for (i, j) in [(i, j) for (i, article_i) in enumerate(articles) for (j, article_j) in enumerate(articles) if article_j in article_i.descendants]:\n",
    "    print((\"\\t<article>[%\" + str(len(str(len(articles)))) + \"d] is nested in <article>[%\" + str(len(str(len(articles)))) + \"d]\") % (j, i))\n",
    "\n",
    "# dangling <article>s\n",
    "# these, the <article>s not-in-any-section, are the articles depicted as \"LO MAS VISTO POR LOS SUSCRIPTORES\" at the tail of the page\n",
    "articles_not_in_sections = articles[:]              # copy articles ...\n",
    "articles_in_sections_set = set()\n",
    "for section in sections:\n",
    "    for article in articles:\n",
    "        if article in section.descendants:\n",
    "            articles_in_sections_set = articles_in_sections_set | {article} # need to use this notation. set() notation consumes an interable and therefore iterates over article's members\n",
    "for article in articles_in_sections_set:\n",
    "    while article in articles_not_in_sections:      # while instead of if, just in case of repetition\n",
    "        articles_not_in_sections.remove(article)    # ... then substract every article already under a <section>\n",
    "print(\"+++ NUMBER OF <article>s NOT UNDER ANY <section> :\", len(articles_not_in_sections))\n",
    "\n",
    "# Report which <article> is nested in which <section>s\n",
    "maxlen = max( (len('section[' + 'x' * len(str(len(sections))) + ']:' + str(section.attrs['class'])) for section in sections) )\n",
    "for i, section in enumerate(sections):\n",
    "    line = (('section[%' + str(len(str(len(sections)))) + 'd]: %s' + ' ' * 100) % (i, str(section.attrs['class']),))[:maxlen] + \" ||\"\n",
    "    for article in articles: line += \"X\" if article in section.descendants else '.'; \n",
    "    line += \"|\"\n",
    "    # get nearest <header> previous sibling -- filter only tags\n",
    "    cursor = section\n",
    "    while cursor and cursor.name != 'header':\n",
    "        cursor = cursor.previous_sibling\n",
    "        try:\n",
    "            if cursor.name == 'header':\n",
    "                line += ' ' + cursor.text.strip()\n",
    "        except:\n",
    "            pass\n",
    "\n",
    "    # if prev_siblings_list:\n",
    "    #     print(\"!!!\")\n",
    "    #     print(len(prev_siblings_list))\n",
    "    #     while prev_siblings_list[0]:    # can do this if previous filtering succeded...\n",
    "    #         if prev_siblings_list[0].name == 'header':\n",
    "    #             line += ' ' + prev_siblings_list[0].text.strip()\n",
    "    #             break\n",
    "    #         prev_siblings_list = prev_siblings_list[1:]\n",
    "    print(line)"
   ]
  }
 ],
 "metadata": {
  "kernelspec": {
   "display_name": "Python 3.9.1 64-bit (system)",
   "language": "python",
   "name": "python3"
  },
  "language_info": {
   "codemirror_mode": {
    "name": "ipython",
    "version": 3
   },
   "file_extension": ".py",
   "mimetype": "text/x-python",
   "name": "python",
   "nbconvert_exporter": "python",
   "pygments_lexer": "ipython3",
   "version": "3.9.1"
  },
  "orig_nbformat": 4,
  "vscode": {
   "interpreter": {
    "hash": "369c5e762566542b7e1b9087985119ff26b4daf909ad96eeb0bc0767c2e9d06d"
   }
  }
 },
 "nbformat": 4,
 "nbformat_minor": 2
}

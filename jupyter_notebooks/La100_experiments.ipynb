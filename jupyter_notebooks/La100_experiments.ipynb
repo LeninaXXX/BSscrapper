{
 "cells": [
  {
   "cell_type": "code",
   "execution_count": 7,
   "metadata": {},
   "outputs": [
    {
     "ename": "SyntaxError",
     "evalue": "invalid syntax (1414697656.py, line 12)",
     "output_type": "error",
     "traceback": [
      "\u001b[1;36m  Input \u001b[1;32mIn [7]\u001b[1;36m\u001b[0m\n\u001b[1;33m    tag{ent} = soup.find_all(ent)\u001b[0m\n\u001b[1;37m       ^\u001b[0m\n\u001b[1;31mSyntaxError\u001b[0m\u001b[1;31m:\u001b[0m invalid syntax\n"
     ]
    }
   ],
   "source": [
    "import requests\n",
    "import bs4 as bs\n",
    "import lxml\n",
    "httpaddr = \"http://la100.cienradios.com/\"\n",
    "\n",
    "requests_ret = requests.get(httpaddr); print(requests_ret, end = ' || ')\n",
    "soup = bs.BeautifulSoup(requests_ret.text, 'lxml')\n",
    "ents = ['article', 'section'] + ['h' + str(i) for i in range(7)]; print(tags)\n",
    "tags = {} \n",
    "\n",
    "for ent in ents:\n",
    "    tag{ent} = soup.find_all(ent)\n",
    "    \n",
    "for ent in ents:\n",
    "    exec('%ss = soup.find_all(\"%s\")' % (ent, ent))\n",
    "\n",
    "print(\"articles :\", len(articles), end = ' / ')\n",
    "print(\"sections :\", len(sections), end = ' / ')\n",
    "print(\"h1s :\", len(h1s), end = ' / ')\n",
    "print(\"h2s :\", len(h2s), end = ' / ')\n",
    "print(\"h3s :\", len(h3s), end = ' / ')\n",
    "print(\"h4s :\", len(h4s), end = ' / ')\n",
    "print(\"h5s :\", len(h5s), end = ' / ')\n",
    "print(\"h6s :\", len(h6s))\n",
    "# only <h2>s hold relevance\n",
    "# the only <h1> holds an SVG graphic"
   ]
  },
  {
   "cell_type": "code",
   "execution_count": null,
   "metadata": {},
   "outputs": [],
   "source": []
  }
 ],
 "metadata": {
  "kernelspec": {
   "display_name": "Python 3.9.1 64-bit (system)",
   "language": "python",
   "name": "python3"
  },
  "language_info": {
   "codemirror_mode": {
    "name": "ipython",
    "version": 3
   },
   "file_extension": ".py",
   "mimetype": "text/x-python",
   "name": "python",
   "nbconvert_exporter": "python",
   "pygments_lexer": "ipython3",
   "version": "3.9.1"
  },
  "orig_nbformat": 4,
  "vscode": {
   "interpreter": {
    "hash": "369c5e762566542b7e1b9087985119ff26b4daf909ad96eeb0bc0767c2e9d06d"
   }
  }
 },
 "nbformat": 4,
 "nbformat_minor": 2
}

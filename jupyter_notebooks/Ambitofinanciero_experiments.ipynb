{
 "cells": [
  {
   "cell_type": "code",
   "execution_count": 28,
   "metadata": {},
   "outputs": [],
   "source": [
    "# from pprint import pprint                                               # Alt + Enter   :: runs currently selected cell and insert new cell immediately below\n",
    "\n",
    "import requests                                                         # Jupyter keyboard shortcuts cheatsheet \n",
    "import bs4 as bs                                                        # Ctrl + Enter  :: runs currently selected cell, focus remains in current cell\n",
    "import lxml                                                             # Shift + Enter :: runs current cell and insert new one immediately below\n",
    "import html5lib                                                         # Esc Shift + L :: Toggle line numbering for full notebook\n",
    "\n",
    "httpaddr = \"http://www.ambito.com\"                                      # Esc dd        :: (Command mode) Esc *FOLLOWED* by D D. Erases current cell (pretty much like a line on Vim)\n",
    "requests_ret = requests.get(httpaddr)                                   # Alt + <arrow> :: Move code cell\n",
    "                                                                        # Esc M         :: (Command mode) Switch to typing markdown (on a new cell)\n",
    "soup_html5lib = bs.BeautifulSoup(requests_ret.text, 'html5lib')         # Esc Y         :: (Command mode) Switch to typing code (on a new cell)\n",
    "soup_lxml = bs.BeautifulSoup(requests_ret.text, 'lxml')                 # Esc L         :: Toggle line numbering for present cell\n",
    "                                                                        \n",
    "soup = soup_lxml    # parse both - choose one\n",
    "# soup = soup_html5lib    # parse both - choose one\n",
    "\n"
   ]
  }
 ],
 "metadata": {
  "kernelspec": {
   "display_name": "Python 3.9.1 ('.venv': venv)",
   "language": "python",
   "name": "python3"
  },
  "language_info": {
   "codemirror_mode": {
    "name": "ipython",
    "version": 3
   },
   "file_extension": ".py",
   "mimetype": "text/x-python",
   "name": "python",
   "nbconvert_exporter": "python",
   "pygments_lexer": "ipython3",
   "version": "3.9.1"
  },
  "orig_nbformat": 4,
  "vscode": {
   "interpreter": {
    "hash": "369c5e762566542b7e1b9087985119ff26b4daf909ad96eeb0bc0767c2e9d06d"
   }
  }
 },
 "nbformat": 4,
 "nbformat_minor": 2
}

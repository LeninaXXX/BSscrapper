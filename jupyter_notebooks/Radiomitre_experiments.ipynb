{
 "cells": [
  {
   "cell_type": "code",
   "execution_count": null,
   "metadata": {},
   "outputs": [],
   "source": [
    "import requests\n",
    "import bs4 as bs\n",
    "import lxml\n",
    "httpaddr = \"https://radiomitre.cienradios.com/\"\n",
    "\n",
    "requests_ret = requests.get(httpaddr)\n",
    "soup = bs.BeautifulSoup(requests_ret.text, 'lxml')"
   ]
  },
  {
   "cell_type": "code",
   "execution_count": null,
   "metadata": {},
   "outputs": [],
   "source": []
  }
 ],
 "metadata": {
  "kernelspec": {
   "display_name": "Python 3.9.1 64-bit (system)",
   "language": "python",
   "name": "python3"
  },
  "language_info": {
   "name": "python",
   "version": "3.9.1"
  },
  "orig_nbformat": 4,
  "vscode": {
   "interpreter": {
    "hash": "369c5e762566542b7e1b9087985119ff26b4daf909ad96eeb0bc0767c2e9d06d"
   }
  }
 },
 "nbformat": 4,
 "nbformat_minor": 2
}

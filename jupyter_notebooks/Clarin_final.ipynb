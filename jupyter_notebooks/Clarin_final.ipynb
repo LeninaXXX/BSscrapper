{
 "cells": [
  {
   "cell_type": "code",
   "execution_count": 63,
   "metadata": {},
   "outputs": [],
   "source": [
    "import requests\n",
    "import bs4 as bs \n",
    "import lxml\n",
    "from pprint import pprint\n",
    "\n",
    "http_clarin = requests.get('https://www.clarin.com')\n",
    "http_infobae = requests.get('https://www.infobae.com')\n",
    "http_lanacion = requests.get('https://www.lanacion.com.ar')\n",
    "\n",
    "soup_clarin = bs.BeautifulSoup(http_clarin.text, 'lxml')\n",
    "soup_infobae = bs.BeautifulSoup(http_infobae.text, 'lxml')\n",
    "soup_lanacion = bs.BeautifulSoup(http_lanacion.text, 'lxml')"
   ]
  },
  {
   "cell_type": "code",
   "execution_count": 64,
   "metadata": {},
   "outputs": [],
   "source": [
    "hs = {i : list(soup_clarin.find_all('h' + str(i))) for i in range(1, 7)}"
   ]
  },
  {
   "cell_type": "code",
   "execution_count": 74,
   "metadata": {},
   "outputs": [
    {
     "data": {
      "text/plain": [
       "'Noticias. Últimas noticias de Argentina y el Mundo | Clarín'"
      ]
     },
     "execution_count": 74,
     "metadata": {},
     "output_type": "execute_result"
    }
   ],
   "source": [
    "titles = list(soup_clarin.find_all('title'))\n",
    "title = titles[0]\n",
    "title.get_text()\n",
    "\n"
   ]
  }
 ],
 "metadata": {
  "kernelspec": {
   "display_name": "Python 3.9.1 ('.venv': venv)",
   "language": "python",
   "name": "python3"
  },
  "language_info": {
   "codemirror_mode": {
    "name": "ipython",
    "version": 3
   },
   "file_extension": ".py",
   "mimetype": "text/x-python",
   "name": "python",
   "nbconvert_exporter": "python",
   "pygments_lexer": "ipython3",
   "version": "3.9.1"
  },
  "orig_nbformat": 4,
  "vscode": {
   "interpreter": {
    "hash": "369c5e762566542b7e1b9087985119ff26b4daf909ad96eeb0bc0767c2e9d06d"
   }
  }
 },
 "nbformat": 4,
 "nbformat_minor": 2
}
